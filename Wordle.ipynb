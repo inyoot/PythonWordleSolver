{
  "nbformat": 4,
  "nbformat_minor": 0,
  "metadata": {
    "colab": {
      "provenance": [],
      "mount_file_id": "1p6WGrAWR00WPEhvggClw6IxUI2XF9ROJ",
      "authorship_tag": "ABX9TyPvaYLxz1pzbo6+kyruuGf9",
      "include_colab_link": true
    },
    "kernelspec": {
      "name": "python3",
      "display_name": "Python 3"
    },
    "language_info": {
      "name": "python"
    }
  },
  "cells": [
    {
      "cell_type": "markdown",
      "metadata": {
        "id": "view-in-github",
        "colab_type": "text"
      },
      "source": [
        "<a href=\"https://colab.research.google.com/github/inyoot/PythonWordleSolver/blob/main/Wordle.ipynb\" target=\"_parent\"><img src=\"https://colab.research.google.com/assets/colab-badge.svg\" alt=\"Open In Colab\"/></a>"
      ]
    },
    {
      "cell_type": "markdown",
      "source": [
        "The first attempt for read from file. It is more complete but need more cleaning."
      ],
      "metadata": {
        "id": "gliFNcUlcYlz"
      }
    },
    {
      "cell_type": "code",
      "execution_count": null,
      "metadata": {
        "id": "jW4f-ZWtNgu5",
        "colab": {
          "base_uri": "https://localhost:8080/"
        },
        "outputId": "7c09a1a2-c0f4-4364-d9d7-730e7e501453"
      },
      "outputs": [
        {
          "output_type": "stream",
          "name": "stdout",
          "text": [
            "abcdefghijklmnopqrstuvwxyz\n",
            "<class 'str'>\n"
          ]
        },
        {
          "output_type": "execute_result",
          "data": {
            "text/plain": [
              "22951"
            ]
          },
          "metadata": {},
          "execution_count": 33
        }
      ],
      "source": [
        "def five_letter_words(file_path):\n",
        "  \"\"\"Opens a text file and prints each line.\n",
        "\n",
        "  Args:\n",
        "    file_path: The path to the text file.\n",
        "  \"\"\"\n",
        "  results = []\n",
        "  try:\n",
        "    with open(file_path, 'r') as file:\n",
        "      for line in file:\n",
        "        word = line.strip()\n",
        "        if len(word) == 5:\n",
        "          results.append(word)\n",
        "  except FileNotFoundError:\n",
        "    print(f\"Error: File '{file_path}' not found.\")\n",
        "  except Exception as e:\n",
        "    print(f\"An error occurred: {e}\")\n",
        "  return results\n",
        "\n",
        "# Example usage (replace with your file path)\n",
        "# File from https://github.com/dwyl/english-words\n",
        "# It is too big and there is no common words information\n",
        "file_path = \"/content/drive/MyDrive/data/words.txt\"\n",
        "fl_words=five_letter_words(file_path)\n",
        "len(fl_words)\n"
      ]
    },
    {
      "cell_type": "code",
      "source": [
        "# Run this if it contains other than lowercase\n",
        "import string\n",
        "print(string.ascii_lowercase)\n",
        "print(type(string.ascii_lowercase))\n",
        "lowercase = string.ascii_lowercase\n",
        "\n",
        "print(len(fl_words))\n",
        "#final_list = [word for word in fl_words if len(set(word).intersection(set(lowercase)))==5 ]\n",
        "\n",
        "fl_words = [word for word in fl_words if all(letter in lowercase for letter in word)]\n",
        "print(len(fl_words))\n"
      ],
      "metadata": {
        "colab": {
          "base_uri": "https://localhost:8080/"
        },
        "id": "7ZVsE3hVUf-l",
        "outputId": "a17854fc-4565-4569-ee20-fa5a10f06b7e"
      },
      "execution_count": null,
      "outputs": [
        {
          "output_type": "stream",
          "name": "stdout",
          "text": [
            "abcdefghijklmnopqrstuvwxyz\n",
            "<class 'str'>\n",
            "39933\n",
            "39933\n"
          ]
        }
      ]
    },
    {
      "cell_type": "markdown",
      "source": [
        "The second attempt. This csv file has the frequency of the word."
      ],
      "metadata": {
        "id": "pg9PBMa3cj2z"
      }
    },
    {
      "cell_type": "code",
      "source": [
        "import csv\n",
        "\n",
        "def csv_to_dict(file_path):\n",
        "  \"\"\"Reads a CSV file and converts it into a list of dictionaries.\n",
        "\n",
        "  Args:\n",
        "    file_path: The path to the CSV file.\n",
        "\n",
        "  Returns:\n",
        "    A list of dictionaries, where each dictionary represents a row in the CSV file.\n",
        "    Returns an empty list if the file is not found or if an error occurs.\n",
        "  \"\"\"\n",
        "  data = {}\n",
        "  try:\n",
        "    with open(file_path, 'r', newline='', encoding='utf-8') as file: # Added encoding\n",
        "      reader = csv.DictReader(file)\n",
        "      for row in reader:\n",
        "          #print(row)\n",
        "          word = row['word']\n",
        "          if len(word) == 5:\n",
        "             data[word] = row['count']\n",
        "  except FileNotFoundError:\n",
        "      print(f\"Error: File '{file_path}' not found.\")\n",
        "  except Exception as e:\n",
        "      print(f\"An error occurred: {e}\")\n",
        "  return data\n",
        "\n",
        "# The data is from https://www.kaggle.com/datasets/rtatman/english-word-frequency?resource=download\n",
        "file_path = '/content/drive/MyDrive/data/unigram_freq.csv'\n",
        "result_dict = csv_to_dict(file_path)\n",
        "#print(result_dict)\n",
        "fl_words = list(result_dict.keys())\n",
        "#fl_words\n",
        "print(len(fl_words))\n",
        "print(fl_words[:10])\n"
      ],
      "metadata": {
        "colab": {
          "base_uri": "https://localhost:8080/"
        },
        "id": "RsN_9Y-pqpxi",
        "outputId": "275f9060-675d-45e5-e2dd-69c5a0fb9f34"
      },
      "execution_count": null,
      "outputs": [
        {
          "output_type": "stream",
          "name": "stdout",
          "text": [
            "39933\n",
            "['about', 'other', 'which', 'their', 'there', 'first', 'would', 'these', 'click', 'price']\n"
          ]
        }
      ]
    },
    {
      "cell_type": "code",
      "source": [
        "guess_word = 'scout'\n",
        "# R = GRAY - forbidden letters\n",
        "# G = GREEN - right letter on right position - in_place\n",
        "# Y = YELLOW - right letter wrong position - contains and not_in\n",
        "guess_feedback = 'RRGGG'\n",
        "\n",
        "in_place = []\n",
        "forbidden_letters = ''\n",
        "not_ins = []\n",
        "\n",
        "for idx, (letter, feedback) in enumerate(zip(guess_word, guess_feedback)):\n",
        "  #print(idx, letter, feedback)\n",
        "  if feedback == 'G':\n",
        "    in_place.append((letter, idx))\n",
        "  if feedback == 'Y':\n",
        "    not_ins.append((letter, idx))\n",
        "  if feedback == 'R':\n",
        "    forbidden_letters += letter\n",
        "print('in_place', in_place)\n",
        "print('not_ins', not_ins)\n",
        "print('forbidden_letters', forbidden_letters)\n",
        "\n",
        "# forbidden_letters is done and tested\n",
        "filtered_words = [word for word in filtered_words if set(word).isdisjoint(set(forbidden_letters))]\n",
        "print(len(filtered_words))\n",
        "# not_ins is done and tested\n",
        "contains = [letter for letter, _ in not_ins]\n",
        "contains = \"\".join(contains)\n",
        "print(contains)\n",
        "filtered_words = [word for word in filtered_words if all(letter in word for letter in contains)]\n",
        "print(len(filtered_words))\n",
        "for not_in in not_ins:\n",
        "  filtered_words = [word for word in filtered_words if word[not_in[1]] != not_in[0]]\n",
        "print(len(filtered_words))\n",
        "# in_place done and tested\n",
        "filtered_words = [word for word in filtered_words if all(word[i] == letter for letter, i in in_place)]\n",
        "print(len(filtered_words))\n",
        "filtered_words[:10]\n"
      ],
      "metadata": {
        "colab": {
          "base_uri": "https://localhost:8080/"
        },
        "outputId": "3d03cc4d-9e9e-41c3-c993-2ad25265ab3b",
        "id": "OdIhtRqZFL67"
      },
      "execution_count": null,
      "outputs": [
        {
          "output_type": "stream",
          "name": "stdout",
          "text": [
            "in_place [('o', 2), ('u', 3), ('t', 4)]\n",
            "not_ins []\n",
            "forbidden_letters sc\n",
            "9\n",
            "\n",
            "9\n",
            "9\n",
            "9\n"
          ]
        },
        {
          "output_type": "execute_result",
          "data": {
            "text/plain": [
              "['trout',\n",
              " 'prout',\n",
              " 'flout',\n",
              " 'fmout',\n",
              " 'tvout',\n",
              " 'lnout',\n",
              " 'thout',\n",
              " 'krout',\n",
              " 'noout']"
            ]
          },
          "metadata": {},
          "execution_count": 32
        }
      ]
    },
    {
      "cell_type": "markdown",
      "source": [
        "List of words for first guess:\n",
        "ADIEU\n",
        "AUDIO\n",
        "GRACE\n",
        "\n",
        "We can choose randomly from top 100 most frequent word with some criteria (at least 3 vocal, no redudant letter, most frequent letter, etc)"
      ],
      "metadata": {
        "id": "Gp9DLSQeVZGO"
      }
    },
    {
      "cell_type": "code",
      "source": [
        "initial_words = [word for word in fl_words[:100] if len(set(word).intersection(set('aeiouy'))) >2]\n",
        "print(len(initial_words))\n",
        "print (initial_words)\n",
        "\n",
        "def is_redundant_letters(text):\n",
        "    \"\"\"\n",
        "    Detects and returns redundant letters in a string.\n",
        "\n",
        "    Args:\n",
        "        text: The input string.\n",
        "\n",
        "    Returns:\n",
        "        True if redundant letters are detected, False otherwise.\n",
        "    \"\"\"\n",
        "    seen = set()\n",
        "    for char in text:\n",
        "        if char in seen:\n",
        "            return True\n",
        "        else:\n",
        "            seen.add(char)\n",
        "    return False\n",
        "\n",
        "initial_words = [word for word in initial_words if not is_redundant_letters(word)]\n",
        "print(len(initial_words))\n",
        "print (initial_words)"
      ],
      "metadata": {
        "colab": {
          "base_uri": "https://localhost:8080/"
        },
        "id": "2a8uTbTPXbOf",
        "outputId": "c6624291-7ce9-465a-e0b0-45131faf6e28"
      },
      "execution_count": null,
      "outputs": [
        {
          "output_type": "stream",
          "name": "stdout",
          "text": [
            "13\n",
            "['about', 'email', 'video', 'years', 'today', 'house', 'media', 'guide', 'image', 'money', 'value', 'movie', 'yahoo']\n",
            "12\n",
            "['about', 'email', 'video', 'years', 'today', 'house', 'media', 'guide', 'image', 'money', 'value', 'movie']\n"
          ]
        }
      ]
    },
    {
      "cell_type": "code",
      "source": [
        "guess_word = 'adieu'\n",
        "# R = GRAY - forbidden letters\n",
        "# G = GREEN - right letter on right position - in_place\n",
        "# Y = YELLOW - right letter wrong position - contains and not_in\n",
        "guess_feedback = 'RGYGR'\n",
        "\n",
        "guess_word = 'audio'\n",
        "# R = GRAY - forbidden letters\n",
        "# G = GREEN - right letter on right position - in_place\n",
        "# Y = YELLOW - right letter wrong position - contains and not_in\n",
        "guess_feedback = 'GRYRR'\n",
        "\n",
        "guess_word = 'today'\n",
        "# R = GRAY - forbidden letters\n",
        "# G = GREEN - right letter on right position - in_place\n",
        "# Y = YELLOW - right letter wrong position - contains and not_in\n",
        "guess_feedback = 'RYRRR'\n",
        "\n",
        "guess_word = 'media'\n",
        "# R = GRAY - forbidden letters\n",
        "# G = GREEN - right letter on right position - in_place\n",
        "# Y = YELLOW - right letter wrong position - contains and not_in\n",
        "guess_feedback = 'RRRRY'\n",
        "\n",
        "filtered_words = fl_words\n"
      ],
      "metadata": {
        "id": "2gLKHlHrc2Y7"
      },
      "execution_count": null,
      "outputs": []
    },
    {
      "cell_type": "code",
      "source": [
        "guess_word = 'guide'\n",
        "# R = GRAY - forbidden letters\n",
        "# G = GREEN - right letter on right position - in_place\n",
        "# Y = YELLOW - right letter wrong position - contains and not_in\n",
        "guess_feedback = 'RYRRR'\n",
        "\n",
        "in_place = []\n",
        "forbidden_letters = ''\n",
        "not_ins = []\n",
        "\n",
        "for idx, (letter, feedback) in enumerate(zip(guess_word, guess_feedback)):\n",
        "  #print(idx, letter, feedback)\n",
        "  if feedback == 'G':\n",
        "    in_place.append((letter, idx))\n",
        "  if feedback == 'Y':\n",
        "    not_ins.append((letter, idx))\n",
        "  if feedback == 'R':\n",
        "    forbidden_letters += letter\n",
        "print('in_place', in_place)\n",
        "print('not_ins', not_ins)\n",
        "print('forbidden_letters', forbidden_letters)\n"
      ],
      "metadata": {
        "colab": {
          "base_uri": "https://localhost:8080/"
        },
        "id": "VhQCO68eWIhf",
        "outputId": "37753007-5298-4023-c079-a3bb34ffece6"
      },
      "execution_count": null,
      "outputs": [
        {
          "output_type": "stream",
          "name": "stdout",
          "text": [
            "in_place []\n",
            "not_ins [('u', 1)]\n",
            "forbidden_letters gide\n"
          ]
        }
      ]
    },
    {
      "cell_type": "code",
      "source": [
        "# forbidden_letters is done and tested\n",
        "filtered_words = [word for word in filtered_words if set(word).isdisjoint(set(forbidden_letters))]\n",
        "print(len(filtered_words))\n",
        "# not_ins is done and tested\n",
        "contains = [letter for letter, _ in not_ins]\n",
        "contains = \"\".join(contains)\n",
        "print(contains)\n",
        "filtered_words = [word for word in filtered_words if all(letter in word for letter in contains)]\n",
        "print(len(filtered_words))\n",
        "for not_in in not_ins:\n",
        "  filtered_words = [word for word in filtered_words if word[not_in[1]] != not_in[0]]\n",
        "print(len(filtered_words))\n",
        "# in_place done and tested\n",
        "filtered_words = [word for word in filtered_words if all(word[i] == letter for letter, i in in_place)]\n",
        "print(len(filtered_words))"
      ],
      "metadata": {
        "colab": {
          "base_uri": "https://localhost:8080/"
        },
        "id": "4rSmgNJDTIqb",
        "outputId": "6d52a8cc-d90d-42dd-e350-3706a0f2034c"
      },
      "execution_count": null,
      "outputs": [
        {
          "output_type": "stream",
          "name": "stdout",
          "text": [
            "10510\n",
            "u\n",
            "2666\n",
            "1522\n",
            "1522\n"
          ]
        }
      ]
    },
    {
      "cell_type": "code",
      "source": [
        "filtered_words[:10]\n"
      ],
      "metadata": {
        "colab": {
          "base_uri": "https://localhost:8080/"
        },
        "id": "ZURaRH2gX693",
        "outputId": "229e6b2e-5b7f-4fda-c106-68f9dca8b3a7"
      },
      "execution_count": null,
      "outputs": [
        {
          "output_type": "execute_result",
          "data": {
            "text/plain": [
              "['about',\n",
              " 'forum',\n",
              " 'south',\n",
              " 'hours',\n",
              " 'court',\n",
              " 'stuff',\n",
              " 'album',\n",
              " 'focus',\n",
              " 'trust',\n",
              " 'youth']"
            ]
          },
          "metadata": {},
          "execution_count": 29
        }
      ]
    },
    {
      "cell_type": "code",
      "source": [
        "guess_word = 'about'\n",
        "# R = GRAY - forbidden letters\n",
        "# G = GREEN - right letter on right position - in_place\n",
        "# Y = YELLOW - right letter wrong position - contains and not_in\n",
        "guess_feedback = 'RRGGG'\n",
        "\n",
        "in_place = []\n",
        "forbidden_letters = ''\n",
        "not_ins = []\n",
        "\n",
        "for idx, (letter, feedback) in enumerate(zip(guess_word, guess_feedback)):\n",
        "  #print(idx, letter, feedback)\n",
        "  if feedback == 'G':\n",
        "    in_place.append((letter, idx))\n",
        "  if feedback == 'Y':\n",
        "    not_ins.append((letter, idx))\n",
        "  if feedback == 'R':\n",
        "    forbidden_letters += letter\n",
        "print('in_place', in_place)\n",
        "print('not_ins', not_ins)\n",
        "print('forbidden_letters', forbidden_letters)\n",
        "\n",
        "# forbidden_letters is done and tested\n",
        "filtered_words = [word for word in filtered_words if set(word).isdisjoint(set(forbidden_letters))]\n",
        "print(len(filtered_words))\n",
        "# not_ins is done and tested\n",
        "contains = [letter for letter, _ in not_ins]\n",
        "contains = \"\".join(contains)\n",
        "print(contains)\n",
        "filtered_words = [word for word in filtered_words if all(letter in word for letter in contains)]\n",
        "print(len(filtered_words))\n",
        "for not_in in not_ins:\n",
        "  filtered_words = [word for word in filtered_words if word[not_in[1]] != not_in[0]]\n",
        "print(len(filtered_words))\n",
        "# in_place done and tested\n",
        "filtered_words = [word for word in filtered_words if all(word[i] == letter for letter, i in in_place)]\n",
        "print(len(filtered_words))"
      ],
      "metadata": {
        "colab": {
          "base_uri": "https://localhost:8080/"
        },
        "id": "6WRHIzvBhssU",
        "outputId": "a8bd3c25-9747-4640-fdac-9b22b2080830"
      },
      "execution_count": null,
      "outputs": [
        {
          "output_type": "stream",
          "name": "stdout",
          "text": [
            "in_place [('o', 2), ('u', 3), ('t', 4)]\n",
            "not_ins []\n",
            "forbidden_letters ab\n",
            "612\n",
            "\n",
            "612\n",
            "612\n",
            "17\n"
          ]
        }
      ]
    },
    {
      "cell_type": "code",
      "source": [
        "filtered_words[:10]"
      ],
      "metadata": {
        "colab": {
          "base_uri": "https://localhost:8080/"
        },
        "id": "uc2SKEwXcfWg",
        "outputId": "60efc312-6a97-4179-8c87-4aa9e2cd5aa8"
      },
      "execution_count": null,
      "outputs": [
        {
          "output_type": "execute_result",
          "data": {
            "text/plain": [
              "['scout',\n",
              " 'trout',\n",
              " 'shout',\n",
              " 'stout',\n",
              " 'spout',\n",
              " 'clout',\n",
              " 'snout',\n",
              " 'prout',\n",
              " 'flout',\n",
              " 'cqout']"
            ]
          },
          "metadata": {},
          "execution_count": 31
        }
      ]
    },
    {
      "cell_type": "code",
      "source": [
        "guess_word = 'about'\n",
        "# R = GRAY - forbidden letters\n",
        "# G = GREEN - right letter on right position - in_place\n",
        "# Y = YELLOW - right letter wrong position - contains and not_in\n",
        "guess_feedback = 'YRRRY'\n",
        "\n",
        "in_place = []\n",
        "forbidden_letters = ''\n",
        "not_ins = []\n",
        "\n",
        "for idx, (letter, feedback) in enumerate(zip(guess_word, guess_feedback)):\n",
        "  #print(idx, letter, feedback)\n",
        "  if feedback == 'G':\n",
        "    in_place.append((letter, idx))\n",
        "  if feedback == 'Y':\n",
        "    not_ins.append((letter, idx))\n",
        "  if feedback == 'R':\n",
        "    forbidden_letters += letter\n",
        "print('in_place', in_place)\n",
        "print('not_ins', not_ins)\n",
        "print('forbidden_letters', forbidden_letters)"
      ],
      "metadata": {
        "colab": {
          "base_uri": "https://localhost:8080/"
        },
        "id": "yw_FUFuuz2yE",
        "outputId": "5cdf8cca-976a-4a14-b831-8fc5ebdce405"
      },
      "execution_count": null,
      "outputs": [
        {
          "output_type": "stream",
          "name": "stdout",
          "text": [
            "in_place []\n",
            "not_ins [('a', 0), ('t', 4)]\n",
            "forbidden_letters bou\n"
          ]
        }
      ]
    },
    {
      "cell_type": "code",
      "source": [
        "guess_word = 'scout'\n",
        "# R = GRAY - forbidden letters\n",
        "# G = GREEN - right letter on right position - in_place\n",
        "# Y = YELLOW - right letter wrong position - contains and not_in\n",
        "guess_feedback = 'RRGGG'\n",
        "\n",
        "in_place = []\n",
        "forbidden_letters = ''\n",
        "not_ins = []\n",
        "\n",
        "for idx, (letter, feedback) in enumerate(zip(guess_word, guess_feedback)):\n",
        "  #print(idx, letter, feedback)\n",
        "  if feedback == 'G':\n",
        "    in_place.append((letter, idx))\n",
        "  if feedback == 'Y':\n",
        "    not_ins.append((letter, idx))\n",
        "  if feedback == 'R':\n",
        "    forbidden_letters += letter\n",
        "print('in_place', in_place)\n",
        "print('not_ins', not_ins)\n",
        "print('forbidden_letters', forbidden_letters)\n",
        "\n",
        "# forbidden_letters is done and tested\n",
        "filtered_words = [word for word in filtered_words if set(word).isdisjoint(set(forbidden_letters))]\n",
        "print(len(filtered_words))\n",
        "# not_ins is done and tested\n",
        "contains = [letter for letter, _ in not_ins]\n",
        "contains = \"\".join(contains)\n",
        "print(contains)\n",
        "filtered_words = [word for word in filtered_words if all(letter in word for letter in contains)]\n",
        "print(len(filtered_words))\n",
        "for not_in in not_ins:\n",
        "  filtered_words = [word for word in filtered_words if word[not_in[1]] != not_in[0]]\n",
        "print(len(filtered_words))\n",
        "# in_place done and tested\n",
        "filtered_words = [word for word in filtered_words if all(word[i] == letter for letter, i in in_place)]\n",
        "print(len(filtered_words))\n",
        "filtered_words[:10]\n"
      ],
      "metadata": {
        "colab": {
          "base_uri": "https://localhost:8080/"
        },
        "id": "7c9eM7Yjpo8W",
        "outputId": "3d03cc4d-9e9e-41c3-c993-2ad25265ab3b"
      },
      "execution_count": null,
      "outputs": [
        {
          "output_type": "stream",
          "name": "stdout",
          "text": [
            "in_place [('o', 2), ('u', 3), ('t', 4)]\n",
            "not_ins []\n",
            "forbidden_letters sc\n",
            "9\n",
            "\n",
            "9\n",
            "9\n",
            "9\n"
          ]
        },
        {
          "output_type": "execute_result",
          "data": {
            "text/plain": [
              "['trout',\n",
              " 'prout',\n",
              " 'flout',\n",
              " 'fmout',\n",
              " 'tvout',\n",
              " 'lnout',\n",
              " 'thout',\n",
              " 'krout',\n",
              " 'noout']"
            ]
          },
          "metadata": {},
          "execution_count": 32
        }
      ]
    },
    {
      "cell_type": "code",
      "source": [
        "#forbidden_letters = 'au'\n",
        "filtered_words = [word for word in filtered_words if set(word).isdisjoint(set(forbidden_letters))]\n",
        "print(len(filtered_words))"
      ],
      "metadata": {
        "colab": {
          "base_uri": "https://localhost:8080/"
        },
        "id": "uRV_E0Vj0K-R",
        "outputId": "6f159732-c720-45c8-b52c-6351c7f1f35b"
      },
      "execution_count": null,
      "outputs": [
        {
          "output_type": "stream",
          "name": "stdout",
          "text": [
            "2007\n"
          ]
        }
      ]
    },
    {
      "cell_type": "code",
      "source": [
        "contains = 'at'\n",
        "filtered_words = [word for word in filtered_words if all(letter in word for letter in contains)]\n",
        "print(len(filtered_words))\n"
      ],
      "metadata": {
        "colab": {
          "base_uri": "https://localhost:8080/"
        },
        "id": "pfYEDpud1vbW",
        "outputId": "7a8c7510-1ace-407a-c545-a9d1e7e41b1c"
      },
      "execution_count": null,
      "outputs": [
        {
          "output_type": "stream",
          "name": "stdout",
          "text": [
            "634\n"
          ]
        }
      ]
    },
    {
      "cell_type": "code",
      "source": [
        "#Not in x position\n",
        "not_in = ('a', 0)\n",
        "filtered_words = [word for word in filtered_words if word[not_in[1]] != not_in[0]]\n",
        "print(len(filtered_words))"
      ],
      "metadata": {
        "colab": {
          "base_uri": "https://localhost:8080/"
        },
        "id": "XlKZwu7g16B5",
        "outputId": "8d717d63-7e28-4d11-eb4f-b6d801d798ba"
      },
      "execution_count": null,
      "outputs": [
        {
          "output_type": "stream",
          "name": "stdout",
          "text": [
            "531\n"
          ]
        }
      ]
    },
    {
      "cell_type": "code",
      "source": [
        "#Not in x position\n",
        "not_in = ('t', 4)\n",
        "filtered_words = [word for word in filtered_words if word[not_in[1]] != not_in[0]]\n",
        "print(len(filtered_words))"
      ],
      "metadata": {
        "colab": {
          "base_uri": "https://localhost:8080/"
        },
        "id": "R4QSn3a62DKz",
        "outputId": "608dd82c-d092-49ac-935b-f5b89b4db644"
      },
      "execution_count": null,
      "outputs": [
        {
          "output_type": "stream",
          "name": "stdout",
          "text": [
            "364\n"
          ]
        }
      ]
    },
    {
      "cell_type": "code",
      "source": [
        "filtered_words[:10]"
      ],
      "metadata": {
        "colab": {
          "base_uri": "https://localhost:8080/"
        },
        "id": "s74ZsAGt2aFf",
        "outputId": "d9a592b8-d154-4bc8-f503-198775e850ee"
      },
      "execution_count": null,
      "outputs": [
        {
          "output_type": "execute_result",
          "data": {
            "text/plain": [
              "['staff',\n",
              " 'party',\n",
              " 'track',\n",
              " 'parts',\n",
              " 'watch',\n",
              " 'thank',\n",
              " 'stars',\n",
              " 'patch',\n",
              " 'facts',\n",
              " 'stats']"
            ]
          },
          "metadata": {},
          "execution_count": 35
        }
      ]
    },
    {
      "cell_type": "code",
      "source": [],
      "metadata": {
        "id": "WVscMwzv2wKX"
      },
      "execution_count": null,
      "outputs": []
    },
    {
      "cell_type": "code",
      "source": [
        "guess_word = 'party'\n",
        "# R = GRAY - forbidden letters\n",
        "# G = GREEN - right letter on right position - in_place\n",
        "# Y = YELLOW - right letter wrong position - contains and not_in\n",
        "guess_feedback = 'GGRYG'"
      ],
      "metadata": {
        "id": "CUaRt3xGdB6v"
      },
      "execution_count": null,
      "outputs": []
    },
    {
      "cell_type": "code",
      "source": [
        "in_place = []\n",
        "forbidden_letters = ''\n",
        "not_ins = []\n",
        "\n",
        "for idx, (letter, feedback) in enumerate(zip(guess_word, guess_feedback)):\n",
        "  #print(idx, letter, feedback)\n",
        "  if feedback == 'G':\n",
        "    in_place.append((letter, idx))\n",
        "  if feedback == 'Y':\n",
        "    not_ins.append((letter, idx))\n",
        "  if feedback == 'R':\n",
        "    forbidden_letters += letter\n",
        "print('in_place', in_place)\n",
        "print('not_ins', not_ins)\n",
        "print('forbidden_letters', forbidden_letters)\n"
      ],
      "metadata": {
        "colab": {
          "base_uri": "https://localhost:8080/"
        },
        "id": "0oiPSNPFdKHK",
        "outputId": "84255601-cb4a-4020-d59d-3acbb659a096"
      },
      "execution_count": null,
      "outputs": [
        {
          "output_type": "stream",
          "name": "stdout",
          "text": [
            "in_place [('p', 0), ('a', 1), ('y', 4)]\n",
            "not_ins [('t', 3)]\n",
            "forbidden_letters r\n"
          ]
        }
      ]
    },
    {
      "cell_type": "code",
      "source": [
        "#in_place = [('d',1),('e',3),('t',2)]\n",
        "filtered_words = [word for word in filtered_words if all(word[i] == letter for letter, i in in_place)]\n",
        "print(len(filtered_words))"
      ],
      "metadata": {
        "colab": {
          "base_uri": "https://localhost:8080/"
        },
        "id": "v-obYsyTfUtL",
        "outputId": "fc92a968-f47b-412e-9eb7-7bd2c250bcb7"
      },
      "execution_count": null,
      "outputs": [
        {
          "output_type": "stream",
          "name": "stdout",
          "text": [
            "7\n"
          ]
        }
      ]
    },
    {
      "cell_type": "code",
      "source": [
        "filtered_words"
      ],
      "metadata": {
        "colab": {
          "base_uri": "https://localhost:8080/"
        },
        "id": "onm8t7WX3N7k",
        "outputId": "472c66f7-6f15-4380-bd31-be031338c125"
      },
      "execution_count": null,
      "outputs": [
        {
          "output_type": "execute_result",
          "data": {
            "text/plain": [
              "['party', 'panty', 'patty', 'patsy', 'pasty', 'patry', 'pathy']"
            ]
          },
          "metadata": {},
          "execution_count": 39
        }
      ]
    },
    {
      "cell_type": "code",
      "source": [
        "not_ins = ('t', 3)\n",
        "filtered_words = [word for word in filtered_words if word[not_in[1]] != not_in[0]]\n",
        "print(len(filtered_words))"
      ],
      "metadata": {
        "colab": {
          "base_uri": "https://localhost:8080/"
        },
        "id": "rAP2hSv43uiz",
        "outputId": "1068ef7b-0faa-45a4-dde2-adf7a7d1f1a1"
      },
      "execution_count": null,
      "outputs": [
        {
          "output_type": "stream",
          "name": "stdout",
          "text": [
            "7\n"
          ]
        }
      ]
    },
    {
      "cell_type": "code",
      "source": [
        "filtered_words[:10]"
      ],
      "metadata": {
        "colab": {
          "base_uri": "https://localhost:8080/"
        },
        "id": "2Y9Fh5p74BS0",
        "outputId": "13adbf81-e020-4627-a7a6-d807d506fb39"
      },
      "execution_count": null,
      "outputs": [
        {
          "output_type": "execute_result",
          "data": {
            "text/plain": [
              "['party', 'panty', 'patty', 'patsy', 'pasty', 'patry', 'pathy']"
            ]
          },
          "metadata": {},
          "execution_count": 46
        }
      ]
    },
    {
      "cell_type": "code",
      "source": [
        "#forbidden_letters = 'au'\n",
        "filtered_words = [word for word in filtered_words if set(word).isdisjoint(set(forbidden_letters))]\n",
        "print(len(filtered_words))"
      ],
      "metadata": {
        "colab": {
          "base_uri": "https://localhost:8080/"
        },
        "id": "7vceQ3kYcu0j",
        "outputId": "c395b177-0da2-41ff-b23b-dee7b96d4eac"
      },
      "execution_count": null,
      "outputs": [
        {
          "output_type": "stream",
          "name": "stdout",
          "text": [
            "305\n"
          ]
        }
      ]
    },
    {
      "cell_type": "code",
      "source": [
        "filtered_words[:10]\n",
        "# What is the criteria for choosing the guess word"
      ],
      "metadata": {
        "colab": {
          "base_uri": "https://localhost:8080/"
        },
        "id": "LOjGH3B_X8gf",
        "outputId": "273865bc-70e1-4239-bcec-ad2b8bbeb26b"
      },
      "execution_count": null,
      "outputs": [
        {
          "output_type": "execute_result",
          "data": {
            "text/plain": [
              "['close',\n",
              " 'known',\n",
              " 'whole',\n",
              " 'shows',\n",
              " 'shoes',\n",
              " 'shown',\n",
              " 'block',\n",
              " 'whose',\n",
              " 'clock',\n",
              " 'knows']"
            ]
          },
          "metadata": {},
          "execution_count": 32
        }
      ]
    },
    {
      "cell_type": "code",
      "source": [
        "guess_word = 'close'\n",
        "# R = GRAY - forbidden letters\n",
        "# G = GREEN - right letter on right position - in_place\n",
        "# Y = YELLOW - right letter wrong position - contains and not_in\n",
        "guess_feedback = 'RRGGG'"
      ],
      "metadata": {
        "id": "A1Ycc5lXeLVr"
      },
      "execution_count": null,
      "outputs": []
    },
    {
      "cell_type": "code",
      "source": [
        "in_place = []\n",
        "forbidden_letters = ''\n",
        "not_ins = []\n",
        "\n",
        "for idx, (letter, feedback) in enumerate(zip(guess_word, guess_feedback)):\n",
        "  #print(idx, letter, feedback)\n",
        "  if feedback == 'G':\n",
        "    in_place.append((letter, idx))\n",
        "  if feedback == 'Y':\n",
        "    not_ins.append((letter, idx))\n",
        "  if feedback == 'R':\n",
        "    forbidden_letters += letter\n",
        "print('in_place', in_place)\n",
        "print('not_ins', not_ins)\n",
        "print('forbidden_letters', forbidden_letters)\n"
      ],
      "metadata": {
        "colab": {
          "base_uri": "https://localhost:8080/"
        },
        "id": "Zq71E1yWeLdW",
        "outputId": "f6712815-d180-49d9-cd68-331e25603c73"
      },
      "execution_count": null,
      "outputs": [
        {
          "output_type": "stream",
          "name": "stdout",
          "text": [
            "in_place [('o', 2), ('s', 3), ('e', 4)]\n",
            "not_ins []\n",
            "forbidden_letters cl\n"
          ]
        }
      ]
    },
    {
      "cell_type": "code",
      "source": [
        "filtered_words = [word for word in filtered_words if set(word).isdisjoint(set(forbidden_letters))]\n",
        "print(len(filtered_words))"
      ],
      "metadata": {
        "colab": {
          "base_uri": "https://localhost:8080/"
        },
        "id": "Pa7xFwEPiho7",
        "outputId": "a3bad2c1-5131-4393-86cb-4dc2ed437411"
      },
      "execution_count": null,
      "outputs": [
        {
          "output_type": "stream",
          "name": "stdout",
          "text": [
            "123\n"
          ]
        }
      ]
    },
    {
      "cell_type": "code",
      "source": [
        "#in_place = [('d',1),('e',3)]\n",
        "filtered_words = [word for word in filtered_words if all(word[i] == letter for letter, i in in_place)]\n",
        "print(len(filtered_words))"
      ],
      "metadata": {
        "colab": {
          "base_uri": "https://localhost:8080/"
        },
        "id": "jyqtRLpoemU4",
        "outputId": "78369c5f-3f25-464b-e31d-0b5de938d0e4"
      },
      "execution_count": null,
      "outputs": [
        {
          "output_type": "stream",
          "name": "stdout",
          "text": [
            "3\n"
          ]
        }
      ]
    },
    {
      "cell_type": "code",
      "source": [
        "filtered_words[:10]"
      ],
      "metadata": {
        "colab": {
          "base_uri": "https://localhost:8080/"
        },
        "id": "o7UoI7Ooepx0",
        "outputId": "36bb31e1-9e51-439d-b490-ffd7a5ff63c6"
      },
      "execution_count": null,
      "outputs": [
        {
          "output_type": "execute_result",
          "data": {
            "text/plain": [
              "['whose', 'omose', 'shose']"
            ]
          },
          "metadata": {},
          "execution_count": 38
        }
      ]
    },
    {
      "cell_type": "code",
      "source": [
        "#Not in x position\n",
        "not_in = ('d', 4)\n",
        "filtered_words = [word for word in filtered_words if word[not_in[1]] != not_in[0]]\n",
        "print(len(filtered_words))"
      ],
      "metadata": {
        "colab": {
          "base_uri": "https://localhost:8080/"
        },
        "id": "Ne9Bjbts55W6",
        "outputId": "f76017ce-56b8-43a4-cf24-14469e53b8e3"
      },
      "execution_count": null,
      "outputs": [
        {
          "output_type": "stream",
          "name": "stdout",
          "text": [
            "80\n"
          ]
        }
      ]
    },
    {
      "cell_type": "code",
      "source": [
        "filtered_words[:10]"
      ],
      "metadata": {
        "colab": {
          "base_uri": "https://localhost:8080/"
        },
        "id": "mkj_ioRfi_E4",
        "outputId": "5aa10e0d-9319-406e-fe5e-8edce8f2d937"
      },
      "execution_count": null,
      "outputs": [
        {
          "output_type": "execute_result",
          "data": {
            "text/plain": [
              "['adams',\n",
              " 'adapt',\n",
              " 'adler',\n",
              " 'adept',\n",
              " 'adele',\n",
              " 'aveda',\n",
              " 'adage',\n",
              " 'atsdr',\n",
              " 'adnan',\n",
              " 'arndt']"
            ]
          },
          "metadata": {},
          "execution_count": 83
        }
      ]
    },
    {
      "cell_type": "code",
      "source": [
        "forbidden_letters = 'ck'\n",
        "filtered_words = [word for word in filtered_words if set(word).isdisjoint(set(forbidden_letters))]\n",
        "print(len(filtered_words))"
      ],
      "metadata": {
        "id": "iG-Ax9eSjLOd",
        "colab": {
          "base_uri": "https://localhost:8080/"
        },
        "outputId": "725b7461-f264-4a88-ecc2-73d3e55efa1c"
      },
      "execution_count": null,
      "outputs": [
        {
          "output_type": "stream",
          "name": "stdout",
          "text": [
            "0\n"
          ]
        }
      ]
    },
    {
      "cell_type": "code",
      "source": [
        "in_place = [('l',1),('i',2)]\n",
        "filtered_words = [word for word in filtered_words if all(word[i] == letter for letter, i in in_place)]\n",
        "print(len(filtered_words))"
      ],
      "metadata": {
        "colab": {
          "base_uri": "https://localhost:8080/"
        },
        "id": "YDJrEzxuk0Hu",
        "outputId": "51a037a6-d0e9-4eca-db59-9f382bd40afb"
      },
      "execution_count": null,
      "outputs": [
        {
          "output_type": "stream",
          "name": "stdout",
          "text": [
            "0\n"
          ]
        }
      ]
    },
    {
      "cell_type": "code",
      "source": [
        "filtered_words[:10]"
      ],
      "metadata": {
        "colab": {
          "base_uri": "https://localhost:8080/"
        },
        "id": "Sb4d8SW0lb4T",
        "outputId": "cce48802-8eb9-4ef0-f06b-2c5c62f9d9f6"
      },
      "execution_count": null,
      "outputs": [
        {
          "output_type": "execute_result",
          "data": {
            "text/plain": [
              "[]"
            ]
          },
          "metadata": {},
          "execution_count": 30
        }
      ]
    }
  ]
}