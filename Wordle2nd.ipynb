{
  "nbformat": 4,
  "nbformat_minor": 0,
  "metadata": {
    "colab": {
      "provenance": [],
      "mount_file_id": "1v7adqMenfAixtYU50Y-eCQRBpW4U_xNr",
      "authorship_tag": "ABX9TyObcs+5Parl4z4Zzs1eCesV",
      "include_colab_link": true
    },
    "kernelspec": {
      "name": "python3",
      "display_name": "Python 3"
    },
    "language_info": {
      "name": "python"
    }
  },
  "cells": [
    {
      "cell_type": "markdown",
      "metadata": {
        "id": "view-in-github",
        "colab_type": "text"
      },
      "source": [
        "<a href=\"https://colab.research.google.com/github/inyoot/PythonWordleSolver/blob/main/Wordle2nd.ipynb\" target=\"_parent\"><img src=\"https://colab.research.google.com/assets/colab-badge.svg\" alt=\"Open In Colab\"/></a>"
      ]
    },
    {
      "cell_type": "code",
      "source": [
        "\"\"\"\n",
        "Wordle solver\n",
        "It will load the English words with its frequency from Kaggle dataset, filtered\n",
        "only 5 letter words when read it line by line.\n",
        "The input will the guess word and its colored coded feedback from Wordle\n",
        "The output will be a list of suggested words to guess next\n",
        "You can call solve many time until all words are guessed.\n",
        "\"\"\"\n",
        "\n",
        "import csv\n",
        "\n",
        "def csv_to_dict(file_path):\n",
        "    \"\"\"Reads a CSV file and converts it into a dictionary.\n",
        "\n",
        "    Args:\n",
        "      file_path: The path to the CSV file.\n",
        "\n",
        "    Returns:\n",
        "      A dictionary, where key is the word and value is the count.\n",
        "      All the words are five-letter word and in lower case.\n",
        "      Returns an empty dictionary if the file is not found or if an error occurs.\n",
        "    \"\"\"\n",
        "    data = {}\n",
        "    try:\n",
        "        with open(file_path, 'r', newline='', encoding='utf-8') as file:\n",
        "            reader = csv.DictReader(file)\n",
        "            for row in reader:\n",
        "            #print(row)\n",
        "                word = row['word']\n",
        "                if len(word) == 5:\n",
        "                    data[word] = row['count']\n",
        "    except Exception as e:\n",
        "        print(f\"An error occurred: {e}\")\n",
        "        return {}\n",
        "    return data\n",
        "\n",
        "# The data is from\n",
        "# https://www.kaggle.com/datasets/rtatman/english-word-frequency?resource=download\n",
        "file_path = '/content/drive/MyDrive/data/unigram_freq.csv'\n",
        "result_dict = csv_to_dict(file_path)\n",
        "filtered_words = list(result_dict.keys())\n",
        "print(\"The total five letter words: \", len(filtered_words))\n",
        "print(\"The top ten most frequent five letter word\", filtered_words[:10])\n",
        "\n",
        "# Generating the initial guess where there is no redundant letter and has at\n",
        "# least three vowels\n",
        "\n",
        "# Remove the redundant letter\n",
        "def has_redundant_letters(text: str) -> bool:\n",
        "    return len(text) > len(set(text))\n",
        "\n",
        "initial_words = [word for word in filtered_words\n",
        "                 if not has_redundant_letters(word)]\n",
        "\n",
        "# The guess words should have at least 3 vowels\n",
        "initial_words = [word for word in initial_words[:100]\n",
        "                 if len(set(word).intersection(set('aeiouy'))) > 2]\n",
        "\n",
        "print(\"The top ten initial guess words: \", initial_words[:10])\n",
        "\n",
        "\n",
        "def solve(guess_word, guess_feedback, filtered_words):\n",
        "    \"\"\"Solve the Wordle game.\n",
        "    Args:\n",
        "        Guess_word: The word guessed by the player.\n",
        "        guess_feedback: The feedback given by the Wordle game.\n",
        "        # R = GRAY - forbidden letters\n",
        "        # G = GREEN - right letter on right position - in_place\n",
        "        # Y = YELLOW - right letter wrong position - contains and not_in\n",
        "        # Example: guess_feedback = 'RRRYR'\n",
        "        filtered_words: The list of possible words\n",
        "    Returns:\n",
        "        A list of suggested words to guess next.\n",
        "\n",
        "    Precondition: the filtered_words is a list of five letter words in lower case\n",
        "    \"\"\"\n",
        "    forbidden_letters = ''\n",
        "    in_place = []\n",
        "    not_ins = []\n",
        "\n",
        "    for idx, (letter, feedback) in enumerate(zip(guess_word, guess_feedback)):\n",
        "        if feedback == 'G':\n",
        "            in_place.append((letter, idx))\n",
        "        elif feedback == 'Y':\n",
        "            not_ins.append((letter, idx))\n",
        "        elif feedback == 'R':\n",
        "            forbidden_letters += letter\n",
        "\n",
        "\n",
        "    # remove all the words with the forbidden letters\n",
        "    filtered_words = [word for word in filtered_words\n",
        "                      if set(word).isdisjoint(set(forbidden_letters))]\n",
        "\n",
        "    # remove all the words not containing the correct letters in the right places\n",
        "    filtered_words = [word for word in filtered_words\n",
        "                      if all(word[i] == letter for letter, i in in_place)]\n",
        "\n",
        "    # remove all the words not containing letter that is not in correct position\n",
        "    contains = [letter for letter, _ in not_ins]\n",
        "    contains = \"\".join(contains)\n",
        "    filtered_words = [word for word in filtered_words\n",
        "                      if all(letter in word for letter in contains)]\n",
        "\n",
        "    # remove all the words not containing letter that is not in correct position\n",
        "    for not_in in not_ins:\n",
        "        filtered_words = [word for word in filtered_words\n",
        "                          if word[not_in[1]] != not_in[0]]\n",
        "    print(\"The top ten guess words: \", filtered_words[:10])\n",
        "    return filtered_words\n",
        "\n"
      ],
      "metadata": {
        "colab": {
          "base_uri": "https://localhost:8080/"
        },
        "id": "j7gMjCSKDR_R",
        "outputId": "1a72114c-5966-4b7b-cd59-bb8892104d2b"
      },
      "execution_count": null,
      "outputs": [
        {
          "output_type": "stream",
          "name": "stdout",
          "text": [
            "The total five letter words:  39933\n",
            "The top ten most frequent five letter word ['about', 'other', 'which', 'their', 'there', 'first', 'would', 'these', 'click', 'price']\n",
            "The top ten initial guess words:  ['about', 'email', 'video', 'years', 'today', 'house', 'media', 'guide', 'image', 'money']\n"
          ]
        }
      ]
    },
    {
      "cell_type": "code",
      "source": [
        "guess_word = 'guide'\n",
        "guess_feedback = 'YRRRY'\n",
        "filtered_words = solve(guess_word, guess_feedback, filtered_words)"
      ],
      "metadata": {
        "colab": {
          "base_uri": "https://localhost:8080/"
        },
        "id": "KN-QNBh8kMAT",
        "outputId": "32606ad8-7204-4494-f486-1f65ac4ec879"
      },
      "execution_count": null,
      "outputs": [
        {
          "output_type": "stream",
          "name": "stdout",
          "text": [
            "The top ten guess words:  ['pages', 'legal', 'agent', 'vegas', 'began', 'angel', 'egypt', 'roger', 'omega', 'wages']\n"
          ]
        }
      ]
    },
    {
      "cell_type": "code",
      "source": [
        "guess_word = 'omega'\n",
        "guess_feedback = 'RRYYY'\n",
        "filtered_words = solve(guess_word, guess_feedback, filtered_words)"
      ],
      "metadata": {
        "colab": {
          "base_uri": "https://localhost:8080/"
        },
        "id": "cmYJ69VykMpq",
        "outputId": "8eaf5b45-142a-4245-ce4a-3e1a48909ec3"
      },
      "execution_count": null,
      "outputs": [
        {
          "output_type": "stream",
          "name": "stdout",
          "text": [
            "The top ten guess words:  ['pages', 'legal', 'vegas', 'began', 'angel', 'wages', 'anger', 'eager', 'vegan', 'agnes']\n"
          ]
        }
      ]
    },
    {
      "cell_type": "code",
      "source": [
        "guess_word = 'angel'\n",
        "guess_feedback = 'YRGGR'\n",
        "filtered_words = solve(guess_word, guess_feedback, filtered_words)"
      ],
      "metadata": {
        "colab": {
          "base_uri": "https://localhost:8080/"
        },
        "id": "-JkqwyVpkMwT",
        "outputId": "5a838500-4efa-444e-ab6f-91bcb3f46d73"
      },
      "execution_count": null,
      "outputs": [
        {
          "output_type": "stream",
          "name": "stdout",
          "text": [
            "The top ten guess words:  ['pages', 'wages', 'eager', 'cages', 'pager', 'wager', 'sages', 'sager', 'hager', 'paget']\n"
          ]
        }
      ]
    },
    {
      "cell_type": "code",
      "source": [
        "guess_word = 'pages'\n",
        "guess_feedback = 'RGGGR'\n",
        "filtered_words = solve(guess_word, guess_feedback, filtered_words)"
      ],
      "metadata": {
        "colab": {
          "base_uri": "https://localhost:8080/"
        },
        "id": "BbfxTq1VkM0U",
        "outputId": "526b38e5-b459-4535-cb1a-f6b762fb74d9"
      },
      "execution_count": null,
      "outputs": [
        {
          "output_type": "stream",
          "name": "stdout",
          "text": [
            "The top ten guess words:  ['eager', 'wager', 'hager', 'jager', 'yager', 'cagey', 'jagex', 'rager', 'cager', 'tager']\n"
          ]
        }
      ]
    },
    {
      "cell_type": "code",
      "source": [
        "guess_word = 'eager'\n",
        "guess_feedback = 'GGGGG'\n",
        "filtered_words = solve(guess_word, guess_feedback, filtered_words)"
      ],
      "metadata": {
        "id": "pswkuJqJkM-C"
      },
      "execution_count": null,
      "outputs": []
    },
    {
      "cell_type": "code",
      "source": [
        "guess_word = 'house'\n",
        "guess_feedback = 'RGRRR'\n",
        "filtered_words = solve(guess_word, guess_feedback, filtered_words)"
      ],
      "metadata": {
        "colab": {
          "base_uri": "https://localhost:8080/"
        },
        "id": "99IEYA8PTReh",
        "outputId": "378fd82d-e8e9-4498-ad3f-589e4f29a5b1"
      },
      "execution_count": null,
      "outputs": [
        {
          "output_type": "stream",
          "name": "stdout",
          "text": [
            "The top ten guess words:  ['world', 'local', 'today', 'total', 'board', 'point', 'going', 'topic', 'login', 'color']\n"
          ]
        }
      ]
    },
    {
      "cell_type": "code",
      "source": [
        "guess_word = 'world'\n",
        "guess_feedback = 'RGRRR'\n",
        "filtered_words = solve(guess_word, guess_feedback, filtered_words)"
      ],
      "metadata": {
        "colab": {
          "base_uri": "https://localhost:8080/"
        },
        "id": "QN5Io2W8Tcml",
        "outputId": "052e59bc-492d-4548-a849-125dd12cbff8"
      },
      "execution_count": null,
      "outputs": [
        {
          "output_type": "stream",
          "name": "stdout",
          "text": [
            "The top ten guess words:  ['point', 'going', 'topic', 'nokia', 'joint', 'comic', 'booty', 'tokyo', 'gonna', 'combo']\n"
          ]
        }
      ]
    },
    {
      "cell_type": "code",
      "source": [
        "guess_word = 'point'\n",
        "guess_feedback = 'RGRYR'\n",
        "filtered_words = solve(guess_word, guess_feedback, filtered_words)"
      ],
      "metadata": {
        "colab": {
          "base_uri": "https://localhost:8080/"
        },
        "id": "HXjqyFeATeWg",
        "outputId": "07ac833f-34b7-42a3-a07d-265c071ccec1"
      },
      "execution_count": null,
      "outputs": [
        {
          "output_type": "stream",
          "name": "stdout",
          "text": [
            "The top ten guess words:  ['congo', 'conan', 'novak', 'gonzo', 'bongo', 'monza', 'jovan', 'conga', 'kogan', 'mongo']\n"
          ]
        }
      ]
    },
    {
      "cell_type": "code",
      "source": [
        "guess_word = 'congo'\n",
        "guess_feedback = 'RGGGG'\n",
        "filtered_words = solve(guess_word, guess_feedback, filtered_words)"
      ],
      "metadata": {
        "colab": {
          "base_uri": "https://localhost:8080/"
        },
        "id": "PtFtpupwTedT",
        "outputId": "7959b8ae-c4f6-4492-f5b0-9aba8d53f50a"
      },
      "execution_count": null,
      "outputs": [
        {
          "output_type": "stream",
          "name": "stdout",
          "text": [
            "The top ten guess words:  ['bongo', 'mongo', 'kongo', 'vongo', 'zongo']\n"
          ]
        }
      ]
    },
    {
      "cell_type": "code",
      "source": [
        "guess_word = 'bongo'\n",
        "guess_feedback = 'GGGGG'"
      ],
      "metadata": {
        "id": "hGHrI3zxTehz"
      },
      "execution_count": null,
      "outputs": []
    },
    {
      "cell_type": "code",
      "source": [
        "guess_word = 'money'\n",
        "guess_feedback = 'RRRGR'\n",
        "filtered_words = solve(guess_word, guess_feedback, filtered_words)"
      ],
      "metadata": {
        "colab": {
          "base_uri": "https://localhost:8080/"
        },
        "id": "YfO8QnDGkOJ7",
        "outputId": "143b4be4-380f-4fe2-c107-81ebbcfa7457"
      },
      "execution_count": null,
      "outputs": [
        {
          "output_type": "stream",
          "name": "stdout",
          "text": [
            "The top ten guess words:  ['after', 'based', 'pages', 'three', 'water', 'sites', 'level', 'sales', 'rates', 'paper']\n"
          ]
        }
      ]
    },
    {
      "cell_type": "code",
      "source": [
        "guess_word = 'after'\n",
        "guess_feedback = 'RRRGR'\n",
        "filtered_words = solve(guess_word, guess_feedback, filtered_words)"
      ],
      "metadata": {
        "colab": {
          "base_uri": "https://localhost:8080/"
        },
        "id": "zZNHpDm2kOm1",
        "outputId": "36abd221-a446-4a90-cd53-419f5c548a54"
      },
      "execution_count": null,
      "outputs": [
        {
          "output_type": "stream",
          "name": "stdout",
          "text": [
            "The top ten guess words:  ['level', 'speed', 'gives', 'lives', 'sleep', 'devel', 'wheel', 'sizes', 'blues', 'lived']\n"
          ]
        }
      ]
    },
    {
      "cell_type": "code",
      "source": [
        "guess_word = 'gives'\n",
        "guess_feedback = 'RGRGR'\n",
        "filtered_words = solve(guess_word, guess_feedback, filtered_words)"
      ],
      "metadata": {
        "colab": {
          "base_uri": "https://localhost:8080/"
        },
        "id": "HzD_4anzkOtg",
        "outputId": "bfb59b5a-cb03-4231-e8c9-7225e5eb4688"
      },
      "execution_count": null,
      "outputs": [
        {
          "output_type": "stream",
          "name": "stdout",
          "text": [
            "The top ten guess words:  ['liked', 'pixel', 'wiped', 'libel', 'diced', 'piled', 'piped', 'kihei', 'hiked', 'pipex']\n"
          ]
        }
      ]
    },
    {
      "cell_type": "code",
      "source": [
        "guess_word = 'pixel'\n",
        "guess_feedback = 'YGRGR'\n",
        "filtered_words = solve(guess_word, guess_feedback, filtered_words)"
      ],
      "metadata": {
        "colab": {
          "base_uri": "https://localhost:8080/"
        },
        "id": "zAWKSSiykOxV",
        "outputId": "9552a9b3-583a-402a-ce02-69d02fd2c622"
      },
      "execution_count": null,
      "outputs": [
        {
          "output_type": "stream",
          "name": "stdout",
          "text": [
            "The top ten guess words:  ['wiped', 'bicep', 'biped', 'ziped', 'diped', 'cipec']\n"
          ]
        }
      ]
    },
    {
      "cell_type": "code",
      "source": [
        "guess_word = 'wiped'\n",
        "guess_feedback = 'RGYGR'\n",
        "filtered_words = solve(guess_word, guess_feedback, filtered_words)"
      ],
      "metadata": {
        "colab": {
          "base_uri": "https://localhost:8080/"
        },
        "id": "NHqclVbnkPtC",
        "outputId": "88488208-5198-4204-8101-8abe9e4af900"
      },
      "execution_count": null,
      "outputs": [
        {
          "output_type": "stream",
          "name": "stdout",
          "text": [
            "The top ten guess words:  ['bicep']\n"
          ]
        }
      ]
    },
    {
      "cell_type": "code",
      "source": [
        "guess_word = 'adieu'\n",
        "guess_feedback = 'RYRGR'\n",
        "filtered_words = solve(guess_word, guess_feedback, filtered_words)"
      ],
      "metadata": {
        "colab": {
          "base_uri": "https://localhost:8080/"
        },
        "id": "jgPs-WWPvvdF",
        "outputId": "be847b65-aa2e-437c-ce47-04dd1f9fdaab"
      },
      "execution_count": null,
      "outputs": [
        {
          "output_type": "stream",
          "name": "stdout",
          "text": [
            "The top ten guess words:  ['order', 'model', 'speed', 'older', 'moved', 'owned', 'codes', 'ended', 'noted', 'devel']\n"
          ]
        }
      ]
    },
    {
      "cell_type": "code",
      "source": [
        "guess_word = 'model'\n",
        "guess_feedback = 'RGYGG'\n",
        "filtered_words = solve(guess_word, guess_feedback, filtered_words)"
      ],
      "metadata": {
        "colab": {
          "base_uri": "https://localhost:8080/"
        },
        "id": "UDCaxaVJwKAF",
        "outputId": "d95ed8cf-7b6b-456d-86b1-c01e16e66693"
      },
      "execution_count": null,
      "outputs": [
        {
          "output_type": "stream",
          "name": "stdout",
          "text": [
            "The top ten guess words:  ['dowel', 'dotel', 'dorel', 'doyel']\n"
          ]
        }
      ]
    },
    {
      "cell_type": "code",
      "source": [
        "guess_word = 'adieu'\n",
        "guess_feedback = 'RGYGG'\n",
        "filtered_words = solve(guess_word, guess_feedback, filtered_words)"
      ],
      "metadata": {
        "id": "ELyb9jKpwL2M"
      },
      "execution_count": null,
      "outputs": []
    },
    {
      "cell_type": "code",
      "source": [
        "guess_word = 'audio'\n",
        "# R = GRAY - forbidden letters\n",
        "# G = GREEN - right letter on right position - in_place\n",
        "# Y = YELLOW - right letter wrong position - contains and not_in\n",
        "guess_feedback = 'YRRRR'\n",
        "# you can put the guess word and run SOLVE again until the feedback is all green\n",
        "\n",
        "filtered_words = solve(guess_word, guess_feedback, filtered_words)"
      ],
      "metadata": {
        "colab": {
          "base_uri": "https://localhost:8080/"
        },
        "id": "doq5b5WPp-Yu",
        "outputId": "a924f843-3ad6-4a99-ae12-98bf37d4211d"
      },
      "execution_count": null,
      "outputs": [
        {
          "output_type": "stream",
          "name": "stdout",
          "text": [
            "The top ten guess words:  ['state', 'years', 'games', 'great', 'black', 'pages', 'place', 'water', 'small', 'shall']\n"
          ]
        }
      ]
    },
    {
      "cell_type": "code",
      "source": [
        "guess_word = 'games'\n",
        "guess_feedback = 'RYRYY'\n",
        "filtered_words = solve(guess_word, guess_feedback, filtered_words)"
      ],
      "metadata": {
        "colab": {
          "base_uri": "https://localhost:8080/"
        },
        "id": "rxUSIuhDtVhT",
        "outputId": "8f180be2-6a31-4bdd-910c-222914e01f26"
      },
      "execution_count": null,
      "outputs": [
        {
          "output_type": "stream",
          "name": "stdout",
          "text": [
            "The top ten guess words:  ['state', 'space', 'share', 'least', 'scale', 'phase', 'speak', 'shape', 'lease', 'beast']\n"
          ]
        }
      ]
    },
    {
      "cell_type": "code",
      "source": [
        "guess_word = 'house'\n",
        "# R = GRAY - forbidden letters\n",
        "# G = GREEN - right letter on right position - in_place\n",
        "# Y = YELLOW - right letter wrong position - contains and not_in\n",
        "guess_feedback = 'RRRRR'\n",
        "# you can put the guess word and run SOLVE again until the feedback is all green\n",
        "\n",
        "filtered_words = solve(guess_word, guess_feedback, filtered_words)"
      ],
      "metadata": {
        "colab": {
          "base_uri": "https://localhost:8080/"
        },
        "id": "iAzhOpHYMDFV",
        "outputId": "a133ddd6-d514-4a28-f64a-92402b6f3faa"
      },
      "execution_count": null,
      "outputs": [
        {
          "output_type": "stream",
          "name": "stdout",
          "text": [
            "The top ten guess words:  ['click', 'black', 'print', 'again', 'april', 'party', 'track', 'david', 'daily', 'final']\n"
          ]
        }
      ]
    },
    {
      "cell_type": "code",
      "source": [
        "guess_word = 'space'\n",
        "# R = GRAY - forbidden letters\n",
        "# G = GREEN - right letter on right position - in_place\n",
        "# Y = YELLOW - right letter wrong position - contains and not_in\n",
        "guess_feedback = 'YRGRY'\n",
        "# you can put the guess word and run SOLVE again until the feedback is all green\n",
        "\n",
        "filtered_words = solve(guess_word, guess_feedback, filtered_words)"
      ],
      "metadata": {
        "colab": {
          "base_uri": "https://localhost:8080/"
        },
        "id": "n8E3rr0kt17O",
        "outputId": "ef44e803-1d77-4e64-9698-4c244ce04abf"
      },
      "execution_count": null,
      "outputs": [
        {
          "output_type": "stream",
          "name": "stdout",
          "text": [
            "The top ten guess words:  ['least', 'beast', 'yeast', 'feast', 'leash', 'keast', 'esata', 'leask', 'erast', 'weast']\n"
          ]
        }
      ]
    },
    {
      "cell_type": "code",
      "source": [
        "guess_word = 'least'\n",
        "# R = GRAY - forbidden letters\n",
        "# G = GREEN - right letter on right position - in_place\n",
        "# Y = YELLOW - right letter wrong position - contains and not_in\n",
        "guess_feedback = 'RGGGG'\n",
        "# you can put the guess word and run SOLVE again until the feedback is all green\n",
        "\n",
        "filtered_words = solve(guess_word, guess_feedback, filtered_words)"
      ],
      "metadata": {
        "colab": {
          "base_uri": "https://localhost:8080/"
        },
        "id": "BFGghFP0uJTn",
        "outputId": "4e5f4b62-8275-49f5-e970-5694c2d84479"
      },
      "execution_count": null,
      "outputs": [
        {
          "output_type": "stream",
          "name": "stdout",
          "text": [
            "The top ten guess words:  ['beast', 'yeast', 'feast', 'keast', 'weast', 'reast']\n"
          ]
        }
      ]
    },
    {
      "cell_type": "code",
      "source": [
        "guess_word = 'beast'\n",
        "# R = GRAY - forbidden letters\n",
        "# G = GREEN - right letter on right position - in_place\n",
        "# Y = YELLOW - right letter wrong position - contains and not_in\n",
        "guess_feedback = 'RGGGG'\n",
        "# you can put the guess word and run SOLVE again until the feedback is all green\n",
        "\n",
        "filtered_words = solve(guess_word, guess_feedback, filtered_words)"
      ],
      "metadata": {
        "colab": {
          "base_uri": "https://localhost:8080/"
        },
        "id": "c2NQ8zV9uS0r",
        "outputId": "521ef284-88a2-4018-c714-3ebab4ce90a2"
      },
      "execution_count": null,
      "outputs": [
        {
          "output_type": "stream",
          "name": "stdout",
          "text": [
            "The top ten guess words:  ['yeast', 'feast', 'keast', 'weast', 'reast']\n"
          ]
        }
      ]
    },
    {
      "cell_type": "code",
      "source": [],
      "metadata": {
        "id": "IJn_jvvAucPR"
      },
      "execution_count": null,
      "outputs": []
    },
    {
      "cell_type": "code",
      "source": [
        "guess_word = 'click'\n",
        "guess_feedback = 'RYRRR'\n",
        "filtered_words = solve(guess_word, guess_feedback, filtered_words)"
      ],
      "metadata": {
        "colab": {
          "base_uri": "https://localhost:8080/"
        },
        "id": "2ANAsc2Wf5VE",
        "outputId": "4ccc624c-4c51-4061-9957-c655cfd67c66"
      },
      "execution_count": null,
      "outputs": [
        {
          "output_type": "stream",
          "name": "stdout",
          "text": [
            "The top ten guess words:  ['apply', 'larry', 'malta', 'rally', 'naval', 'fatal', 'dylan', 'badly', 'natal', 'palma']\n"
          ]
        }
      ]
    },
    {
      "cell_type": "code",
      "source": [
        "guess_word = 'apply'\n",
        "guess_feedback = 'YRRYG'\n",
        "filtered_words = solve(guess_word, guess_feedback, filtered_words)"
      ],
      "metadata": {
        "colab": {
          "base_uri": "https://localhost:8080/"
        },
        "id": "sBpaUbXYgG6A",
        "outputId": "17b23c2d-a361-4f00-d65a-5b9de1072a83"
      },
      "execution_count": null,
      "outputs": [
        {
          "output_type": "stream",
          "name": "stdout",
          "text": [
            "The top ten guess words:  ['larry', 'malay', 'lanny', 'baldy', 'balmy', 'dalby', 'laffy', 'landy', 'malty', 'lawry']\n"
          ]
        }
      ]
    },
    {
      "cell_type": "code",
      "source": [
        "guess_word = 'baldy'\n",
        "guess_feedback = 'GGGRG'\n",
        "filtered_words = solve(guess_word, guess_feedback, filtered_words)"
      ],
      "metadata": {
        "colab": {
          "base_uri": "https://localhost:8080/"
        },
        "id": "3cyYe5OwgcOa",
        "outputId": "d82e895d-b60b-4861-996e-0669a0aa08a9"
      },
      "execution_count": null,
      "outputs": [
        {
          "output_type": "stream",
          "name": "stdout",
          "text": [
            "The top ten guess words:  ['balmy', 'balay']\n"
          ]
        }
      ]
    },
    {
      "cell_type": "code",
      "source": [
        "guess_word = 'about'\n",
        "# R = GRAY - forbidden letters\n",
        "# G = GREEN - right letter on right position - in_place\n",
        "# Y = YELLOW - right letter wrong position - contains and not_in\n",
        "guess_feedback = 'RRRYR'\n",
        "# you can put the guess word and run SOLVE again until the feedback is all green\n",
        "\n",
        "filtered_words = solve(guess_word, guess_feedback, filtered_words)\n",
        "\n",
        "guess_word = 'music'\n",
        "guess_feedback = 'RYYRR'\n",
        "filtered_words = solve(guess_word, guess_feedback, filtered_words)\n",
        "\n",
        "guess_word = 'users'\n",
        "guess_feedback = 'YYRRY'\n",
        "filtered_words = solve(guess_word, guess_feedback, filtered_words)\n",
        "\n",
        "guess_word = 'slush'\n",
        "guess_feedback = 'GRGGG'\n",
        "filtered_words = solve(guess_word, guess_feedback, filtered_words)\n",
        "\n",
        "guess_word = 'shush'\n",
        "guess_feedback = 'GGGGG' #DONE"
      ],
      "metadata": {
        "id": "YhARPrPSD5Ec"
      },
      "execution_count": null,
      "outputs": []
    },
    {
      "cell_type": "code",
      "source": [
        "guess_word = 'adieu'\n",
        "# R = GRAY - forbidden letters\n",
        "# G = GREEN - right letter on right position - in_place\n",
        "# Y = YELLOW - right letter wrong position - contains and not_in\n",
        "guess_feedback = 'YRRRR'\n",
        "# you can put the guess word and run SOLVE again until the feedback is all green\n",
        "\n",
        "filtered_words = solve(guess_word, guess_feedback, filtered_words)\n"
      ],
      "metadata": {
        "colab": {
          "base_uri": "https://localhost:8080/"
        },
        "id": "wjLIoo8g5h3m",
        "outputId": "1c633501-35b4-4247-fd65-9eaa3b6c9d0e"
      },
      "execution_count": null,
      "outputs": [
        {
          "output_type": "stream",
          "name": "stdout",
          "text": [
            "The top ten guess words:  ['local', 'black', 'total', 'small', 'shall', 'class', 'start', 'march', 'yahoo', 'staff']\n"
          ]
        }
      ]
    },
    {
      "cell_type": "code",
      "source": [
        "guess_word = 'local'\n",
        "# R = GRAY - forbidden letters\n",
        "# G = GREEN - right letter on right position - in_place\n",
        "# Y = YELLOW - right letter wrong position - contains and not_in\n",
        "guess_feedback = 'RYGYR'\n",
        "# you can put the guess word and run SOLVE again until the feedback is all green\n",
        "\n",
        "filtered_words = solve(guess_word, guess_feedback, filtered_words)"
      ],
      "metadata": {
        "colab": {
          "base_uri": "https://localhost:8080/"
        },
        "id": "i1MDwR0EmreR",
        "outputId": "d7d7c672-cb04-44ec-c586-4b45ba679ddb"
      },
      "execution_count": null,
      "outputs": [
        {
          "output_type": "stream",
          "name": "stdout",
          "text": [
            "The top ten guess words:  ['macro', 'jacob', 'bacon', 'macon', 'macos', 'facto', 'wacom', 'macho', 'tacos', 'nacho']\n"
          ]
        }
      ]
    },
    {
      "cell_type": "code",
      "source": [],
      "metadata": {
        "id": "8tQSf_MUm7dI"
      },
      "execution_count": null,
      "outputs": []
    }
  ]
}